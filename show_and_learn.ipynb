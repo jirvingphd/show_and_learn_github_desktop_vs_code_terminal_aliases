{
 "metadata": {
  "language_info": {
   "codemirror_mode": {
    "name": "ipython",
    "version": 3
   },
   "file_extension": ".py",
   "mimetype": "text/x-python",
   "name": "python",
   "nbconvert_exporter": "python",
   "pygments_lexer": "ipython3",
   "version": "3.8.5"
  },
  "orig_nbformat": 2,
  "kernelspec": {
   "name": "python385jvsc74a57bd0b6f8c5455914fd83a896e0c3c67cb0be81ade909db6abc1955d07b074198775b",
   "display_name": "Python 3.8.5 64-bit ('learn-env-new': conda)"
  }
 },
 "nbformat": 4,
 "nbformat_minor": 2,
 "cells": [
  {
   "source": [
    "# Using GitHub Desktop, VS Code, & Terminal Aliases to Streamline Workflows"
   ],
   "cell_type": "markdown",
   "metadata": {}
  },
  {
   "source": [
    "- 04/22/21 Show & Learn\n",
    "- Hosted by: James Irving"
   ],
   "cell_type": "markdown",
   "metadata": {}
  },
  {
   "source": [
    "#### Things We Will Cover:\n",
    "- GitHub Desktop: \n",
    "    - What it is, how to install it, and why you'd want to.\n",
    "- VS Code: \n",
    "    - How to install, how to set up learn-env as default, how to set up \"`code`\" terminal shortcut.\n",
    "- Bash/Terminal Aliases"
   ],
   "cell_type": "markdown",
   "metadata": {}
  },
  {
   "source": [
    "## GitHub Desktop"
   ],
   "cell_type": "markdown",
   "metadata": {}
  },
  {
   "source": [
    "- [GitHub Desktop](https://desktop.github.com/)  is a GUI for all things git, developed by GitHub.\n",
    "\n"
   ],
   "cell_type": "markdown",
   "metadata": {}
  },
  {
   "source": [
    "- Installation:\n",
    "    - Go to https://desktop.github.com/  and download correct version for your OS (Mac/Windows)\n",
    "    - Run the installer and log into your GitHub account.\n",
    "\n",
    "- Preferences to Change:\n",
    "    -  Integrations Tab > External Editor > VS Code (or your preferred app)\n",
    "    -  Integrations Tab > Shell > Terminal/GitBash"
   ],
   "cell_type": "markdown",
   "metadata": {}
  },
  {
   "source": [
    "## VS Code\n",
    "\n"
   ],
   "cell_type": "markdown",
   "metadata": {}
  },
  {
   "source": [
    "- VS Code URL: https://code.visualstudio.com/\n",
    "    - [Using Pyhton in VS Code](https://code.visualstudio.com/docs/languages/python)\n",
    "        - [Using Python envs in VS Code](https://code.visualstudio.com/docs/python/environments)\n",
    "### Recommended VS Code Installation Steps\n",
    "- [ ] Install VS Code from https://code.visualstudio.com/ \n",
    "- [ ] Add the `code` shortcut by running \"Shell Command: Install `code` in PATH\" from the command palette (View > Commpant Palette).\n",
    "    - Windows users can skip this step.\n",
    "- [ ] After installing VS Code, add the [official Python extension from Microsoft](https://marketplace.visualstudio.com/items?itemName=ms-python.python)\n",
    "    - [ ] Change the setting for Deafault Python Interpreter to learn-env:\n",
    "        - Go to extension settings (click on the Gear icon on the Python's extension and select Extension Settings).\n",
    "        - Add the word \"default\" to the search box that appears to find \"Python: Default Interpreter Path\"\n",
    "            - To quickly find the file path to learn-env: in your normal terminal/gitbash, activate learn-env and type `which python` to get the filepath to the python interpreter. \n",
    "- [ ] Install `pylance` extension: https://marketplace.visualstudio.com/items?itemName=ms-python.vscode-pylance \n",
    "- [ ] After installing pylance, change Python' extensions \"Default Language Server\" to pylance. \n",
    "\n",
    "#### Recommended extensions\n",
    "- Python Docstring Generator: https://marketplace.visualstudio.com/items?itemName=njpwerner.autodocstring\n",
    "- HTML Preview: https://marketplace.visualstudio.com/items?itemName=tht13.html-preview-vscode \n",
    "- Settings Sync: https://marketplace.visualstudio.com/items?itemName=Shan.code-settings-sync"
   ],
   "cell_type": "markdown",
   "metadata": {}
  },
  {
   "source": [
    "## Terminal Aliases"
   ],
   "cell_type": "markdown",
   "metadata": {}
  },
  {
   "source": [
    "- Your shell/terminal has a settings file that you can add custom shortcuts to. \n",
    "- By default, the curriculum assumes you are using bash and that the settings file is:\n",
    "    - \"`~/.bash_profile`\"\n",
    "    - We have students add \"conda activate learn-env\" to their .bash_profile during env setup lesson.\n",
    "\n",
    "\n",
    "- Note for Mac users Post-Catalina.\n",
    "    - Mac changed the default shell to zsh. You WILL want to change this back to bash. zsh doens't behave exactly the same way.\n",
    "        - How to change default shell back to bash on Mac: \n",
    "            - https://www.cyberciti.biz/faq/change-default-shell-to-bash-on-macos-catalina/\n",
    "        - the settings file for zsh is \"`~/.zshrc`\"\n",
    "\n",
    ">- Sidebar: Customizing The Text next to the command prompt:\n",
    "    - https://www.thegeekstuff.com/2008/09/bash-shell-ps1-10-examples-to-make-your-linux-prompt-like-angelina-jolie/\n",
    "\n",
    "    \n",
    "- Any commands in this settings file will be run whenever a new terminal/gitbash window is opened. \n",
    "- We can also add a shortcut called an `alias` to this file. \n",
    "\n",
    "- My #1 most recommended shortcut is `jnb` = `jupyter notebook`\n",
    "    - The line to add to your .bash_profile is: `alias jnb=\"jupyter notebook\"`\n",
    "    - Notice there are:\n",
    "        - NO spaces on either side of the `=`\n",
    "        - quotation marks around the full-command on the right side of the equal sign. \n",
    "\n",
    "- Items to make aliases for:\n",
    "    - brew services stuff (see MongoDB aliases in example bash_profile below)\n",
    "    - changing directories. (note: windows users may have to add `.` after their cd alias for it to actually change folders)\n",
    "\n",
    "- We can print using the `printf` command/function. \n",
    "\n",
    "\n"
   ],
   "cell_type": "markdown",
   "metadata": {}
  },
  {
   "source": [
    "- Below is a copy of my \"`~/.bash_profile`\"`, also included in this repo. \n",
    "- Note that any file that starst with a `.` is a hidden file and you must set your OS to show hidden files.\n",
    "    - On Mac: use the `cmd`+`shift`+`.` shortcut.\n",
    "    - On Windows 10, change the option from File Explorer's options. \n",
    "        - Details [here](https://support.microsoft.com/en-us/windows/view-hidden-files-and-folders-in-windows-10-97fbc472-c603-9d90-91d0-1166d1d9f4b5#:~:text=Open%20File%20Explorer%20from%20the,folders%2C%20and%20drives%20and%20OK.)\n",
    "        \n",
    "```bash\n",
    "# >>> conda initialize >>>\n",
    "# !! Contents within this block are managed by 'conda init' !!\n",
    "__conda_setup=\"$('/opt/anaconda3/bin/conda' 'shell.bash' 'hook' 2> /dev/null)\"\n",
    "if [ $? -eq 0 ]; then\n",
    "    eval \"$__conda_setup\"\n",
    "else\n",
    "    if [ -f \"/opt/anaconda3/etc/profile.d/conda.sh\" ]; then\n",
    "        . \"/opt/anaconda3/etc/profile.d/conda.sh\"\n",
    "    else\n",
    "        export PATH=\"/opt/anaconda3/bin:$PATH\"\n",
    "    fi\n",
    "fi\n",
    "unset __conda_setup\n",
    "# <<< conda initialize <<<\n",
    "\n",
    "\n",
    "## Adding Folders to the system's path\n",
    "export PATH=\"/Applications⁩/Postgres.app⁩/⁨Contents⁩/Versions⁩/12/bin:$PATH\"\n",
    "export PATH=\"$PATH:/opt/WebDriver/bin\"\n",
    "# export PATH=\"/usr/local/opt/ruby/bin:$PATH\"\n",
    "\n",
    "\n",
    "## Silencing the \"default terminal has changed\" warning⁩\n",
    "export BASH_SILENCE_DEPRECATION_WARNING=1\n",
    "\n",
    "## Customizing the prompt text\n",
    "# export PS1=\"\\u@\\w $ \" \n",
    "export PS1=\"$: \"\n",
    "\n",
    "\n",
    "## Aliases\n",
    "alias jnb=\"jupyter notebook\"\n",
    "\n",
    "# change directories\n",
    "alias cd_git=\"cd ~/Documents/GitHub/\"\n",
    "alias cd_docker=\"cd ~/Documents/GitHub/Docker\"\n",
    "\n",
    "alias cd_projs=\"cd ~/Documents/GitHub/_MOD\\ PROJECTS/\"\n",
    "alias covid=\"cd ~/Documents/GitHub/_MY_SIDE_PROJECTS/playing-with-coronavirus-data/\"\n",
    "alias cd_notes=\"cd ~/Documents/GitHub/_COHORT_NOTES/\"\n",
    "\n",
    "## MondoDB \n",
    "alias mongod='brew services run mongodb-community'\n",
    "alias mongod-status='brew services list'\n",
    "alias mongod-stop='brew services stop mongodb-community'\n",
    "\n",
    "## Menu\n",
    "printf \"\\n===========================================\\n\"\n",
    "printf \"   ALIASES AVAILABLE:\"\n",
    "printf \"\\n===========================================\\n\"\n",
    "\n",
    "printf \"* jnb = jupyter notebook\"\n",
    "printf \"\\n* cd_git\\n* cd_projs\\n* cd_notes\\n* cd_docker\\n* covid\"\n",
    "printf \"\\n\\n=== MongoDB Aliases ===\"\n",
    "printf \"\\n* mongod  = brew services run mongodb-community\"\n",
    "printf \"\\n* mongod-status  = brew services list\"\n",
    "printf \"\\n* mongod-stop  = brew services stop mongodb-community\"\n",
    "\n",
    "printf \"\\n\"\n",
    "printf \"\\n===========================================\\n\"\n",
    "\n",
    "conda activate learn-env-new\n",
    "\n",
    "```"
   ],
   "cell_type": "markdown",
   "metadata": {}
  },
  {
   "source": [
    "# Walkthroughs"
   ],
   "cell_type": "markdown",
   "metadata": {}
  },
  {
   "source": [
    "- [ ] Quickly opening the solution notebook for a lab from the curriculum. \n",
    "- [ ] Handling files that are larger than the 100 MG file size limit.\n",
    "- [ ] Selectively discarding changes to a notes repository.\n",
    "- [ ] Adding files to `.gitignore`\n",
    "- [ ] Reverting to a previous commit / comparing changes. \n"
   ],
   "cell_type": "markdown",
   "metadata": {}
  },
  {
   "source": [],
   "cell_type": "markdown",
   "metadata": {}
  },
  {
   "source": [
    "### Fixing VS Code Docstring Issues"
   ],
   "cell_type": "markdown",
   "metadata": {}
  },
  {
   "source": [
    "- It can be very difficult to get Python docstrings to show up properly in a Jupyter Notebook with VS Code.  I recommend the following settings:\n",
    "    - Install the `pylance` extension\n",
    "    - Change the Python extensions Default Language Server to `pylance`\n",
    "    - In your \"settings.json\" file, add the following (from [source](https://stackoverflow.com/questions/60203867/how-to-show-docstring-or-function-signature-in-vs-code-for-a-jupyter-notebook)):\n",
    "    ```\n",
    "        // Controls if quick suggestions should show up while typing\n",
    "    \"editor.quickSuggestions\": {\n",
    "        \"other\": true,\n",
    "        \"comments\": false,\n",
    "        \"strings\": false\n",
    "    },```"
   ],
   "cell_type": "markdown",
   "metadata": {}
  },
  {
   "cell_type": "code",
   "execution_count": null,
   "metadata": {},
   "outputs": [],
   "source": []
  }
 ]
}